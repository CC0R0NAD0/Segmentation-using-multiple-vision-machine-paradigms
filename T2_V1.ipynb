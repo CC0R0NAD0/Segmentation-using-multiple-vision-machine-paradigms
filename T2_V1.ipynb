{
  "nbformat": 4,
  "nbformat_minor": 0,
  "metadata": {
    "colab": {
      "name": "T2_V1.ipynb",
      "provenance": [],
      "collapsed_sections": [],
      "include_colab_link": true
    },
    "kernelspec": {
      "name": "python3",
      "display_name": "Python 3"
    },
    "language_info": {
      "name": "python"
    }
  },
  "cells": [
    {
      "cell_type": "markdown",
      "metadata": {
        "id": "view-in-github",
        "colab_type": "text"
      },
      "source": [
        "<a href=\"https://colab.research.google.com/github/CC0R0NAD0/Segmentation-using-multiple-vision-machine-paradigms/blob/main/T2_V1.ipynb\" target=\"_parent\"><img src=\"https://colab.research.google.com/assets/colab-badge.svg\" alt=\"Open In Colab\"/></a>"
      ]
    },
    {
      "cell_type": "code",
      "execution_count": 1354,
      "metadata": {
        "colab": {
          "base_uri": "https://localhost:8080/"
        },
        "id": "3SChJRpf5tG0",
        "outputId": "35af44c2-a70c-48bc-8f9b-6aaad7336d59"
      },
      "outputs": [
        {
          "output_type": "stream",
          "name": "stdout",
          "text": [
            "Mounted at /content/drive\n"
          ]
        }
      ],
      "source": [
        "from google.colab import drive  #Librería para accesar a archivos drive\n",
        "import os  #Librería manejo del sistema\n",
        "\n",
        "# Montar el archivo del drive (con previa autorización del usuario)\n",
        "drive.mount('/content/drive', force_remount=True)\n",
        "\n",
        "# Abrir el documento con la ruta de acceso personal predeterminada.\n",
        "os.chdir(\"/content/drive/MyDrive/Sistemas_V/T2_Segmentacion\")  #Cuenta carlos\n",
        "\n",
        "#os.chdir(\"/content/drive/MyDrive/TEC/XIII Semestre/Sistemas_V/Mini_Proyecto\") #Cuenta Adrián"
      ]
    },
    {
      "cell_type": "code",
      "source": [
        "import cv2  # libreria trabajo con imagenes\n",
        "import matplotlib.pyplot as plt\n",
        "\n",
        "from google.colab.patches import cv2_imshow # Se utiliza este parche para \n",
        "                                            # poder mostrar las imágenes en\n",
        "                                            # pantalla\n",
        "\n",
        "\n",
        "\n",
        "\n",
        "#image = cv2.imread('imagenes/figurasColores.png')\n",
        "image = cv2.imread('imagenes/img_tarea_descargada.png')\n",
        "\n",
        "\n",
        "print(image.shape)\n",
        "\n",
        "#cv2_imshow(image)\n",
        "\n",
        "\n",
        "\n",
        "\n",
        "image_plt = cv2.cvtColor(image, cv2.COLOR_BGR2RGB)\n",
        "\n",
        "plt.imshow(image_plt)\n",
        "plt.show()"
      ],
      "metadata": {
        "colab": {
          "base_uri": "https://localhost:8080/",
          "height": 192
        },
        "id": "mdBpIiKW6IXx",
        "outputId": "447c1ab5-532d-4326-c05a-bcf7f3a73b86"
      },
      "execution_count": 1355,
      "outputs": [
        {
          "output_type": "stream",
          "name": "stdout",
          "text": [
            "(287, 780, 3)\n"
          ]
        },
        {
          "output_type": "display_data",
          "data": {
            "text/plain": [
              "<Figure size 432x288 with 1 Axes>"
            ],
            "image/png": "[encoded data removed]"
          },
          "metadata": {
            "needs_background": "light"
          }
        }
      ]
    },
    {
      "cell_type": "code",
      "source": [
        "import matplotlib.colors as colors\n",
        "import numpy as np\n",
        "\n",
        "array=np.asarray(image)\n",
        "arr=(array.astype(float))/255.0\n",
        "img_hsv = colors.rgb_to_hsv(arr[...,:3])\n",
        "plt.subplots(figsize=(15, 3))\n",
        "\n",
        "lu1=img_hsv[...,0].flatten()\n",
        "plt.subplot(1,3,1)\n",
        "plt.hist(lu1*360,bins=360,range=(0.0,360.0),histtype='stepfilled', color='c', label='Tono')\n",
        "plt.title(\"Matíz\")\n",
        "plt.xlabel(\"Valor\")\n",
        "plt.ylabel(\"Frecuencia\")\n",
        "plt.legend()\n",
        "\n",
        "lu2=img_hsv[...,1].flatten()\n",
        "plt.subplot(1,3,2)                  \n",
        "plt.hist(lu2,bins=100,range=(0.0,1.0),histtype='stepfilled', color='m', label='Saturacion')\n",
        "plt.title(\"Saturación\")   \n",
        "plt.xlabel(\"Valor\")\n",
        "plt.ylabel(\"Frecuencia\")\n",
        "plt.legend()\n",
        "\n",
        "lu3=img_hsv[...,2].flatten()\n",
        "plt.subplot(1,3,3)                  \n",
        "plt.hist(lu3*255,bins=256,range=(0.0,255.0),histtype='stepfilled', color='y', label='Intensidad')\n",
        "plt.title(\"Valor\")   \n",
        "plt.xlabel(\"Valor\")\n",
        "plt.ylabel(\"Frecuencia\")\n",
        "plt.legend()\n",
        "\n",
        "plt.tight_layout()\n",
        "plt.show()\n",
        "\n",
        "print(img_hsv.shape)"
      ],
      "metadata": {
        "colab": {
          "base_uri": "https://localhost:8080/",
          "height": 242
        },
        "id": "BJQ3H4D9GP3H",
        "outputId": "fff6f0f1-f261-49dc-dec0-10bb6a661c30"
      },
      "execution_count": 1356,
      "outputs": [
        {
          "output_type": "display_data",
          "data": {
            "text/plain": [
              "<Figure size 1080x216 with 3 Axes>"
            ],
            "image/png": "[encoded data removed]"
          },
          "metadata": {
            "needs_background": "light"
          }
        },
        {
          "output_type": "stream",
          "name": "stdout",
          "text": [
            "(287, 780, 3)\n"
          ]
        }
      ]
    },
    {
      "cell_type": "code",
      "source": [
        "from types import new_class\n",
        "h = img_hsv[...,0]\n",
        "s = img_hsv[...,1]\n",
        "v = img_hsv[...,2]\n",
        "\n",
        "img_rgb = arr[...,:3]\n",
        "R = img_rgb[...,2]\n",
        "G = img_rgb[...,1]\n",
        "B = img_rgb[...,0]\n",
        "\n",
        "h_new = h\n",
        "s_new = s\n",
        "v_new = v\n",
        "\n",
        "#print(256*R.max())\n",
        "#print(360 * h.mean())\n",
        "print(256*R[50][400])\n",
        "print(256*G[50][400])\n",
        "print(256*B[50][400])\n",
        "\n",
        "\n",
        "h_img = image.shape[0]\n",
        "w_img = image.shape[1]\n",
        "\n",
        "\n",
        "bin_image = np.ones((h_img,w_img))\n",
        "posic_object = []\n",
        "\n",
        "\n",
        "val_color1 =  235  #ROJO\n",
        "val_sat1 = 0.4\n",
        "por_desvi1 = 0.05\n",
        "\n",
        "\n",
        "val_color2 =  210 #AMARILLO\n",
        "val_sat2 = 0.4\n",
        "por_desvi2 = 0.05\n",
        "\n",
        "\n",
        "val_color3 =  135  #VERDE\n",
        "val_sat3 = 0.4\n",
        "por_desvi3 = 0.05\n",
        "\n",
        "\n",
        "val_color4 =  25  #AZUL\n",
        "val_sat4 = 0.4\n",
        "por_desvi4 = 0.05\n",
        "\n",
        "for i in range(h_img):\n",
        "    for j in range(w_img):\n",
        "      # if ( ( ( val_color1 - (360*por_desvi1) ) <= 360*h[i,j] <= ( val_color1 + (360*por_desvi1) ) )   ): # and  (s[i,j] > val_sat1 )  ):\n",
        "      #   #if (   ( (256 * R[i,j]) > 115 ) and ( (256 * G[i,j]) > 128) and ( (256 * B[i,j]) < 128)):\n",
        "      #   bin_image[i,j] = 0\n",
        "      #   h_new[i,j] = val_color1/360.0\n",
        "      #   s_new[i,j] = 1.0\n",
        "      #   v_new[i,j] = 1.0\n",
        "      #   posic_object.append(image[i,j,0])\n",
        "\n",
        "      # if ( ( ( val_color2 - (360*por_desvi2) ) <= 360*h[i,j] <= ( val_color2 + (360*por_desvi2) ) )  ): #  and  (s[i,j] > val_sat2 )  ):\n",
        "      #   bin_image[i,j] = 0\n",
        "      #   s_new[i,j] = 1.0\n",
        "      #   h_new[i,j] = val_color2/360.0\n",
        "      #   v_new[i,j] = 1.0\n",
        "\n",
        "      # if ( ( ( val_color3 - (360*por_desvi3) ) <= 360*h[i,j] <= ( val_color3 + (360*por_desvi3) ) )  ): # and  (s[i,j] > val_sat2 )  ):\n",
        "      #   bin_image[i,j] = 0\n",
        "      #   s_new[i,j] = 1.0\n",
        "      #   h_new[i,j] = val_color3/360.0\n",
        "      #   v_new[i,j] = 0.6\n",
        "\n",
        "      if ( ( ( val_color4 - (360*por_desvi4) ) <= 360*h[i,j] <= ( val_color4 + (360*por_desvi4) ) )  ): # and  (s[i,j] > val_sat2 )  ):\n",
        "        bin_image[i,j] = 0\n",
        "        s_new[i,j] = 1.0\n",
        "        h_new[i,j] = val_color4/360.0\n",
        "        v_new[i,j] = 1.0\n",
        "      \n",
        "      # elif (   0. <= v[i,j]  ):\n",
        "      #   bin_image[i,j] = 1\n",
        "      #   s_new[i,j] = 0.0\n",
        "      #   h_new[i,j] = 160/360.0\n",
        "      #   v_new[i,j] = 1.0\n",
        "\n",
        "      else:\n",
        "            bin_image[i,j] = 1\n",
        "            h_new[i,j] = 160/360\n",
        "            v_new[i,j] = 1.0\n",
        "            s_new[i,j] = 0.0\n",
        "            posic_object.append(image[i,j,0])\n",
        "\n",
        "\n",
        "recolor = img_hsv\n",
        "recolor[...,0] = h_new\n",
        "recolor[...,1] = s_new\n",
        "recolor[...,2] = v_new\n",
        "\n",
        "\n",
        "\n",
        "#new_color = cv2.merge([h_new, s_new, v_new])\n",
        "new_color = colors.hsv_to_rgb(recolor[...,:3])\n",
        "\n",
        "\n",
        "new_color_sh = cv2.cvtColor(np.float32(new_color), cv2.COLOR_BGR2RGB)\n",
        "#cv2.imwrite('color_img.jpg', recolor)\n",
        "plt.imshow(new_color_sh)\n",
        "\n",
        "\n",
        "#plt.show()\n",
        "plt.imsave(\"out.png\",new_color_sh)\n",
        "#plt.close()\n",
        "\n",
        "\n",
        "plt.show()\n",
        "#****************************************************\n",
        "\n",
        "# recolor_rgb = arr[...,:3]\n",
        "# recolor_rgb[...,0] = h_new\n",
        "# recolor_rgb[...,1] = s_new\n",
        "# recolor_rgb[...,2] = v_new\n",
        "\n",
        "\n",
        "\n",
        "# #new_color = cv2.merge([h_new, s_new, v_new])\n",
        "# new_color = colors.hsv_to_rgb(recolor[...,:3])\n",
        "\n",
        "\n",
        "# new_color = cv2.cvtColor(np.float32(new_color), cv2.COLOR_BGR2RGB)\n",
        "# #cv2.imwrite('color_img.jpg', recolor)\n",
        "# plt.imshow(new_color)\n",
        "\n",
        "\n",
        "# plt.show()\n",
        "\n",
        "\n",
        "\n",
        "#****************************************************\n",
        "posic_object = np.array(posic_object)\n",
        "print(posic_object.shape)\n",
        "\n",
        "\n",
        "imgplot_BN=plt.imshow(bin_image, cmap=plt.cm.gray)\n",
        "plt.xlabel(\"Posición en X (pixel)\")\n",
        "plt.ylabel(\"Posición en Y (pixel)\")\n",
        "\n",
        "\n",
        "plt.show()"
      ],
      "metadata": {
        "colab": {
          "base_uri": "https://localhost:8080/",
          "height": 416
        },
        "id": "Xs00uNjmHEay",
        "outputId": "5ca02806-3370-4af7-ed16-631f378a0ec6"
      },
      "execution_count": 1357,
      "outputs": [
        {
          "output_type": "stream",
          "name": "stdout",
          "text": [
            "65.25490196078431\n",
            "124.48627450980392\n",
            "220.86274509803923\n"
          ]
        },
        {
          "output_type": "display_data",
          "data": {
            "text/plain": [
              "<Figure size 432x288 with 1 Axes>"
            ],
            "image/png": "[encoded data removed]"
          },
          "metadata": {
            "needs_background": "light"
          }
        },
        {
          "output_type": "stream",
          "name": "stdout",
          "text": [
            "(198050,)\n"
          ]
        },
        {
          "output_type": "display_data",
          "data": {
            "text/plain": [
              "<Figure size 432x288 with 1 Axes>"
            ],
            "image/png": "[encoded data removed]"
          },
          "metadata": {
            "needs_background": "light"
          }
        }
      ]
    },
    {
      "cell_type": "code",
      "source": [
        "# Se aplica un filtro Gauss a la imagen, para que las transiciones sean más suaves\n",
        "gauss = cv2.GaussianBlur(bin_image, (5,5)  , 2) # el último parámetro de esta función\n",
        "                                         # determina que tanto se difunina la imagen                                  \n",
        "plt.subplots(figsize=(15, 4)) # tamaño de imagen\n",
        "plt.subplot(1,2,1) # tamaño 1 fila,2 columnas, columna 1\n",
        "plt.imshow(gauss, cmap=plt.cm.gray)     # Muestra la imagen\n",
        "#plt.title(\"Imagen filtrada\")\n",
        "plt.xlabel(\"Posición en X (pixel)\")\n",
        "plt.ylabel(\"Posición en Y (pixel)\")"
      ],
      "metadata": {
        "colab": {
          "base_uri": "https://localhost:8080/",
          "height": 223
        },
        "id": "O5QrlVwOED9C",
        "outputId": "29ca545a-d83e-4946-ab17-389cd8a8053c"
      },
      "execution_count": 1358,
      "outputs": [
        {
          "output_type": "execute_result",
          "data": {
            "text/plain": [
              "Text(0, 0.5, 'Posición en Y (pixel)')"
            ]
          },
          "metadata": {},
          "execution_count": 1358
        },
        {
          "output_type": "display_data",
          "data": {
            "text/plain": [
              "<Figure size 1080x288 with 1 Axes>"
            ],
            "image/png": "[encoded data removed]"
          },
          "metadata": {
            "needs_background": "light"
          }
        }
      ]
    },
    {
      "cell_type": "code",
      "source": [
        "filtrada = np.ones((h_img,w_img))\n",
        "pas_bin = bin_image\n",
        "for i in range(h_img):\n",
        "    for j in range(w_img):\n",
        "        if (    pas_bin[i,j] == 0 ):\n",
        "          if( (  1 < i < (h_img-1)  )  and  ( 1 < j < (w_img-1)) ):\n",
        "            filtrada[i,j] = max(  pas_bin[i-1,j] ,\n",
        "                                  pas_bin[i+1,j] ,\n",
        "                                  pas_bin[i,j-1] ,\n",
        "                                  pas_bin[i,j+1] ,\n",
        "                                  \n",
        "                                  pas_bin[i-1,j-1] ,\n",
        "                                  pas_bin[i-1,j+1] ,\n",
        "                                  pas_bin[i+1,j-1] ,\n",
        "                                  pas_bin[i+1,j+1] )\n",
        "\n",
        "\n",
        "        else:\n",
        "            filtrada[i,j] = 1\n",
        "\n",
        "imgplot_BN=plt.imshow(filtrada, cmap=plt.cm.gray)\n",
        "plt.xlabel(\"Posición en X (pixel)\")\n",
        "plt.ylabel(\"Posición en Y (pixel)\")\n",
        "\n",
        "\n",
        "plt.imsave(\"out_gray_filtrada.png\",filtrada, cmap=plt.cm.gray )\n",
        "plt.show()\n"
      ],
      "metadata": {
        "colab": {
          "base_uri": "https://localhost:8080/",
          "height": 189
        },
        "id": "zNjQI2dMIygZ",
        "outputId": "0f45d4a2-cf2b-4b55-bb4d-c3ecbf043c2a"
      },
      "execution_count": 1359,
      "outputs": [
        {
          "output_type": "display_data",
          "data": {
            "text/plain": [
              "<Figure size 432x288 with 1 Axes>"
            ],
            "image/png": "[encoded data removed]"
          },
          "metadata": {
            "needs_background": "light"
          }
        }
      ]
    },
    {
      "cell_type": "code",
      "source": [
        "#img_reload = cv2.imread('out.png')\n",
        "img_reload = cv2.imread('out_gray_filtrada.png')\n",
        "\n",
        "\n",
        "gray = cv2.cvtColor(img_reload, cv2.COLOR_BGR2GRAY)\n",
        "\n",
        "\n",
        "canny = cv2.Canny( gray , 10, 150  )\n",
        "canny = cv2.dilate(canny, None, iterations=1)\n",
        "canny = cv2.erode(canny, None, iterations=1)\n",
        "\n",
        "\n",
        "cnts,_ = cv2.findContours(canny, cv2.RETR_EXTERNAL, cv2.CHAIN_APPROX_SIMPLE)# OpenCV 4\n",
        "\n",
        "\n",
        "\n",
        "\n",
        "\n",
        "\n",
        "\n",
        "for c in cnts:\n",
        "  epsilon = 0.01*cv2.arcLength(c,True)\n",
        "  approx = cv2.approxPolyDP(c,epsilon,True)\n",
        "  print(len(approx))\n",
        "  x,y,w,h = cv2.boundingRect(approx)\n",
        "  if len(approx)==3:\n",
        "    cv2.putText(img_reload,'Triangulo', (x,y-5),1,1.5,(255,0,0),2)\n",
        "    cv2.drawContours(img_reload, [approx], 0, (255,0,0),2)\n",
        "  if len(approx)==4:\n",
        "    cv2.putText(img_reload,'Cuadrado', (x,y-5),1,1.5,(255,0,0),2)\n",
        "    cv2.drawContours(img_reload, [approx], 0, (255,0,0),2)\n",
        "  else:\n",
        "    cv2.putText(img_reload,'Circulo', (x,y-5),1,1.5,(255,0,0),2)\n",
        "    cv2.drawContours(img_reload, [approx], 0, (255,0,0),2)\n",
        "plt.imshow(img_reload, cmap=plt.cm.gray)\n",
        "plt.show()\n",
        "\n",
        "\n",
        "\n",
        "\n",
        "encontrado = np.ones((h_img,w_img))\n",
        "#cv2.drawContours(encontrado, [cnts[0]], 0, (0,255,255),2)\n",
        "cv2.fillPoly(encontrado, pts =[cnts[0]], color=(0,0,0))\n",
        "plt.imshow(encontrado, cmap=plt.cm.gray)\n",
        "plt.show()\n",
        "\n",
        "\n",
        "\n",
        "\n",
        "\n",
        "# epsilon = 0.1*cv2.arcLength(cnts[2],True)\n",
        "# approx = cv2.approxPolyDP(cnts[2],epsilon,True)\n",
        "# print(len(approx))\n",
        "# x,y,w,h = cv2.boundingRect(approx)\n",
        "# if len(approx)==3:\n",
        "#   cv2.putText(encontrado,'Triangulo', (x,y-5),1,1.5,(255,0,0),2)\n",
        "#   cv2.drawContours(encontrado, [approx], 0, (255,0,0),2)\n",
        "# if len(approx)==4:\n",
        "#   cv2.putText(encontrado,'Cuadrado', (x,y-5),1,1.5,(255,0,0),2)\n",
        "#   cv2.drawContours(encontrado, [approx], 0, (255,0,0),2)\n",
        "# else:\n",
        "#   cv2.putText(image,'Circulo', (x,y-5),1,1.5,(255,0,0),2)\n",
        "#   cv2.drawContours(encontrado, [approx], 0, (255,0,0),2)\n",
        "# plt.imshow(encontrado, cmap=plt.cm.gray)\n",
        "# plt.show()\n",
        "\n",
        "\n",
        "\n",
        "\n",
        "\n",
        "\n"
      ],
      "metadata": {
        "colab": {
          "base_uri": "https://localhost:8080/",
          "height": 385
        },
        "id": "cNozx4sVkIjP",
        "outputId": "73e65adb-f28b-4804-9cd8-0c2d0ac149eb"
      },
      "execution_count": 1360,
      "outputs": [
        {
          "output_type": "stream",
          "name": "stdout",
          "text": [
            "8\n",
            "4\n",
            "11\n"
          ]
        },
        {
          "output_type": "display_data",
          "data": {
            "text/plain": [
              "<Figure size 432x288 with 1 Axes>"
            ],
            "image/png": "[encoded data removed]"
          },
          "metadata": {
            "needs_background": "light"
          }
        },
        {
          "output_type": "display_data",
          "data": {
            "text/plain": [
              "<Figure size 432x288 with 1 Axes>"
            ],
            "image/png": "[encoded data removed]"
          },
          "metadata": {
            "needs_background": "light"
          }
        }
      ]
    },
    {
      "cell_type": "code",
      "source": [
        "#GRADIENTE VERTICAL COMPLETO\n",
        "num_fila = []\n",
        "fila_len = []\n",
        "\n",
        "#print(len(fila_len))\n",
        "\n",
        "for i in range(h_img):\n",
        "  fila_pri = []\n",
        "  for j in range(w_img):\n",
        "    if (    encontrado[i,j] == 0 ):\n",
        "      fila_pri.append(j)\n",
        "  if( len(fila_pri) != 0):\n",
        "    fila_len.append(len(fila_pri))\n",
        "    num_fila.append(i)\n",
        "\n",
        "\n",
        "plt.scatter(num_fila , fila_len)\n",
        "plt.show()\n",
        "\n",
        "\n",
        "#SI LA LINEA SIGUIENTE ES MAYOR INCLUIRLA**********************************************************************\n",
        "# pos_num_fila = []\n",
        "# pos_fila_len = []\n",
        "\n",
        "\n",
        "# for i in range(len(fila_len)-1):\n",
        "#   if(fila_len[i] <= fila_len[i+1] ):\n",
        "#     pos_fila_len.append(fila_len[i])\n",
        "#     pos_num_fila.append(num_fila[i])\n",
        "\n",
        "\n",
        "# plt.scatter(pos_num_fila , pos_fila_len)\n",
        "# plt.show()\n",
        "\n",
        "\n",
        "\n",
        "#DERIVADA************************************\n",
        "\n",
        "\n",
        "deriva_y = []\n",
        "deriva_x = []\n",
        "\n",
        "for i in range(len(fila_len)-1):\n",
        "  deriva_x.append((num_fila[i+1] + num_fila[i])/2)\n",
        "  deriva_y.append((fila_len[i+1] - fila_len[i]))\n",
        "\n",
        "  \n",
        "plt.scatter(deriva_x , deriva_y)\n",
        "plt.show()\n",
        "\n",
        "\n",
        "print(np.mean(deriva_y))\n",
        "print(deriva_y)\n",
        "print(round(np.mean(deriva_y)))\n",
        "\n",
        "\n",
        "\n",
        "#filtrar puntos extraños*************************\n",
        "\n",
        "\n",
        "deriva_y_f = []\n",
        "deriva_x_f = []\n",
        "rango = (max(deriva_y) - min(deriva_y) ) * 0.5\n",
        "\n",
        "\n",
        "\n",
        "for i in range(len(deriva_y)):\n",
        "  if ( ( np.median(deriva_y) - rango) <= deriva_y[i] <=  ( np.median(deriva_y) + rango ) ):\n",
        "    deriva_x_f.append(deriva_x[i])\n",
        "    deriva_y_f.append(deriva_y[i])\n",
        "\n",
        "\n",
        "plt.scatter(deriva_x_f , deriva_y_f)\n",
        "plt.show()\n",
        "\n",
        "\n",
        "\n",
        "\n",
        "\n",
        "#pendiente positiva*************************************************************\n",
        "\n",
        "deriva_y_pos = []\n",
        "deriva_x_pos = []\n",
        "\n",
        "for i in range(len(deriva_y_f)):\n",
        "  if ( deriva_y_f[i] >= 0)  :\n",
        "    deriva_x_pos.append(deriva_x_f[i])\n",
        "    deriva_y_pos.append(deriva_y_f[i])\n",
        "\n",
        "  \n",
        "plt.scatter(deriva_x_pos , deriva_y_pos)\n",
        "plt.show()\n",
        "\n",
        "\n",
        "\n",
        "\n",
        "\n",
        "#print resultado\n",
        "print(\"\\n**RESULTADOS** \\n\")\n",
        "print(np.mean(deriva_y_f))\n",
        "print(np.mean(deriva_y_pos))\n",
        "\n",
        "\n",
        "# print(np.median(deriva_y_pos))\n",
        "# print(deriva_y_pos)\n",
        "# print(round(np.mean(deriva_y_pos)))\n",
        "\n",
        "\n",
        "# def split_list(a_list):\n",
        "#     half = len(a_list)//2\n",
        "#     return a_list[:half], a_list[half:]\n",
        "\n",
        "# B, C = split_list(deriva_y_pos)\n",
        "# print(B)\n",
        "# print(C)\n",
        "\n",
        "# print(np.mean(B))\n",
        "# print(np.mean(C))\n",
        "# print(\"\\n\")\n",
        "# print(np.median(B))\n",
        "# print(np.median(C))\n",
        "\n",
        "\n",
        "\n",
        "if ( 0 <= (np.mean(deriva_y_pos)) < 0.5 ):\n",
        "  print(\"Cuadro\")\n",
        "if ( 0.5 <= (np.mean(deriva_y_pos))<= 1.2):\n",
        "  print(\"Triangulo\")\n",
        "if ( 1.2 < (np.mean(deriva_y_pos))):\n",
        "  print(\"Circulo\")\n",
        "\n",
        "\n",
        "# #FILTRO MEDIA MOVIL*****************************************************\n",
        "\n",
        "# deriva_y_mm = []\n",
        "# deriva_x_mm = []\n",
        "# media_movil = 10\n",
        "\n",
        "# for j in range(0, len(deriva_y)-media_movil, 1):\n",
        "#   result_mm = 0\n",
        "#   for i in range(media_movil-1):\n",
        "#     result_mm = result_mm + (deriva_y[j + i])\n",
        "\n",
        "  \n",
        "#   deriva_y_mm.append(result_mm/media_movil)\n",
        "#   deriva_x_mm.append(deriva_x[j])\n",
        "\n",
        "  \n",
        "# plt.scatter(deriva_x_mm , deriva_y_mm)\n",
        "# plt.show()\n",
        "\n",
        "# print(np.mean(deriva_y_mm))\n",
        "# print(deriva_y_mm)\n",
        "# print(round(np.mean(deriva_y_mm)))\n",
        "\n",
        "\n",
        "\n",
        "# #**************************************************************************\n",
        "\n",
        "\n",
        "# n, bins, patches =plt.hist(deriva_y_mm,bins=50,range=(-5.0,5.0),histtype='stepfilled', color='y', label = \"\")\n",
        "\n",
        "\n",
        "# plt.show()\n",
        "\n",
        "# print(max(n))\n",
        "# print(max(patches))"
      ],
      "metadata": {
        "colab": {
          "base_uri": "https://localhost:8080/",
          "height": 1000
        },
        "id": "bIQxoUi41kwy",
        "outputId": "645d87d1-d9fc-4f0c-b152-aed75247286c"
      },
      "execution_count": 1361,
      "outputs": [
        {
          "output_type": "display_data",
          "data": {
            "text/plain": [
              "<Figure size 432x288 with 1 Axes>"
            ],
            "image/png": "[encoded data removed]"
          },
          "metadata": {
            "needs_background": "light"
          }
        },
        {
          "output_type": "display_data",
          "data": {
            "text/plain": [
              "<Figure size 432x288 with 1 Axes>"
            ],
            "image/png": "[encoded data removed]"
          },
          "metadata": {
            "needs_background": "light"
          }
        },
        {
          "output_type": "stream",
          "name": "stdout",
          "text": [
            "-0.693069306930693\n",
            "[3, 0, 1, 0, 0, 0, 0, 0, 0, 0, 0, 0, 0, 0, 0, 0, 0, 0, 0, 0, 0, 0, 0, 0, 0, 0, 0, 0, 0, 0, 0, 0, 0, 0, 0, 0, 0, 0, 0, 0, 0, 0, 0, 0, 0, 0, 0, 0, 0, 0, 0, 0, 0, 0, 0, 0, 0, 0, 0, 0, 0, 0, 0, 0, -68, -1, -2, -1, 0, 0, 0, 0, 0, 0, 0, 0, 0, 0, 0, 0, 0, 0, 0, 0, 0, 0, 0, 0, 0, 0, 0, 0, 0, 0, 0, 0, 0, 0, 0, 0, -2]\n",
            "-1\n"
          ]
        },
        {
          "output_type": "display_data",
          "data": {
            "text/plain": [
              "<Figure size 432x288 with 1 Axes>"
            ],
            "image/png": "[encoded data removed]"
          },
          "metadata": {
            "needs_background": "light"
          }
        },
        {
          "output_type": "display_data",
          "data": {
            "text/plain": [
              "<Figure size 432x288 with 1 Axes>"
            ],
            "image/png": "[encoded data removed]"
          },
          "metadata": {
            "needs_background": "light"
          }
        },
        {
          "output_type": "stream",
          "name": "stdout",
          "text": [
            "\n",
            "**RESULTADOS** \n",
            "\n",
            "-0.02\n",
            "0.041666666666666664\n",
            "Cuadro\n"
          ]
        }
      ]
    },
    {
      "cell_type": "code",
      "source": [
        "# encontrado = np.ones((h_img,w_img))\n",
        "# cv2.drawContours(encontrado, [cnts[0]], 0, (0,255,255),2)\n",
        "# cv2.fillPoly(encontrado, pts =[cnts[2]], color=(0,0,0))\n",
        "\n",
        "\n",
        "# if round(np.mean(deriva_y_mm)) ==1:\n",
        "#   cv2.putText(encontrado,'Triangulo', (x,y-5),1,1.5,(255,0,0),2)\n",
        "#   #cv2.drawContours(encontrado, [approx], 0, (255,0,0),2)\n",
        "# if round(np.mean(deriva_y_mm)) ==0:\n",
        "#   cv2.putText(encontrado,'Cuadrado', (x,y-5),1,1.5,(255,0,0),2)\n",
        "#   #cv2.drawContours(img_reload, [approx], 0, (255,0,0),2)\n",
        "# else:\n",
        "#   cv2.putText(encontrado,'Circulo', (x,y-5),1,1.5,(255,0,0),2)\n",
        "#   #cv2.drawContours(img_reload, [approx], 0, (255,0,0),2)\n",
        "\n",
        "# plt.imshow(encontrado, cmap=plt.cm.gray)\n",
        "# plt.show()\n",
        "\n",
        "\n",
        "\n"
      ],
      "metadata": {
        "id": "AOqWAS5-fSr7"
      },
      "execution_count": 1362,
      "outputs": []
    },
    {
      "cell_type": "code",
      "source": [
        "# PRUEBA CON TRANSFORMADA DE HOUGH\n",
        "\n",
        "# edges = cv2.Canny(image_plt,50,200)\n",
        "\n",
        "# plt.subplots(figsize=(15, 3))\n",
        "# plt.subplot(121),plt.imshow(edges,\"gray\")\n",
        "\n",
        "# plt.xticks([]),plt.yticks([])\n",
        "# #hough transform\n",
        "# lines = cv2.HoughLinesP(edges,1,np.pi/180,30,minLineLength=100,maxLineGap=50)\n",
        "# lines1 = lines[:,0,:]#Extraer como bidimensional\n",
        "# for x1,y1,x2,y2 in lines1[:]:\n",
        "#   cv2.line(image_plt,(x1,y1),(x2,y2),(255,0,0),1)\n",
        "\n",
        "# plt.subplot(122),plt.imshow(image_plt)\n",
        "# plt.xticks([]),plt.yticks([])"
      ],
      "metadata": {
        "id": "56OmVn-yMTQe"
      },
      "execution_count": 1363,
      "outputs": []
    }
  ]
}